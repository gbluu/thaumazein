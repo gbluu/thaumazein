{
 "cells": [
  {
   "cell_type": "code",
   "execution_count": null,
   "id": "c0de3232",
   "metadata": {},
   "outputs": [],
   "source": [
    "import pandas as pd\n",
    "import numpy as np\n",
    "from statsmodels.tsa.api import ExponentialSmoothing\n",
    "\n",
    "def triple_additive_smoothing_sm(data: pd.Series, slen: int, future_periods: int):\n",
    "    \"\"\"\n",
    "    Performs Triple Additive Exponential Smoothing (Holt-Winters' Additive Method) using the statsmodels library.\n",
    "\n",
    "    Args:\n",
    "        data (pd.Series): The time series of historical demand. Must have a DatetimeIndex.\n",
    "        slen (int): The length of the seasonal period (e.g., 12 for monthly data with\n",
    "                     a yearly season, 7 for daily data with a weekly season).\n",
    "        future_periods (int): The number of periods to forecast into the future.\n",
    "\n",
    "    Returns:\n",
    "        tuple[pd.DataFrame, any]: \n",
    "            - A DataFrame containing the original data, the forecast, and the error.\n",
    "            - The fitted statsmodels results object for further analysis.\n",
    "    \"\"\"\n",
    "    # --- 1. Input Validation ---\n",
    "    # A robust model needs at least two full seasons of data to learn the pattern.\n",
    "    if len(data) < 2 * slen:\n",
    "        raise ValueError(f\"Data must have at least 2 full seasons of data for this model. \"\n",
    "                         f\"Need {2 * slen} data points, but got {len(data)}.\")\n",
    "\n",
    "    # --- 2. Initialize and Fit the Model ---\n",
    "    # We initialize the ExponentialSmoothing model with our data and specify the model type.\n",
    "    # 'add' stands for additive.\n",
    "    model = ExponentialSmoothing(\n",
    "        data,\n",
    "        trend='add',                # Additive trend\n",
    "        seasonal='add',             # Additive seasonality\n",
    "        seasonal_periods=slen,      # Length of the season\n",
    "        initialization_method='estimated' # Let statsmodels estimate initial values\n",
    "    )\n",
    "\n",
    "    # Fit the model. Statsmodels will automatically find the best alpha, beta, and gamma.\n",
    "    fitted_model = model.fit(optimized=True)\n",
    "\n",
    "    # --- 3. Generate Forecasts ---\n",
    "    # Get the historical forecast (in-sample predictions)\n",
    "    historical_forecast = fitted_model.fittedvalues\n",
    "\n",
    "    # Forecast future periods (out-of-sample predictions)\n",
    "    future_forecast = fitted_model.forecast(steps=future_periods)\n",
    "\n",
    "    # --- 4. Consolidate Results into a DataFrame ---\n",
    "    # Combine the historical and future forecasts into a single series\n",
    "    full_forecast = pd.concat([historical_forecast, future_forecast])\n",
    "\n",
    "    # Create the final DataFrame for analysis\n",
    "    results_df = pd.DataFrame({\n",
    "        'Demand': data,\n",
    "        'Forecast': full_forecast\n",
    "    })\n",
    "    \n",
    "    # Calculate the forecast error\n",
    "    results_df['Error'] = results_df['Forecast'] - results_df['Demand']\n",
    "    \n",
    "    print(\"Successfully fitted Holt-Winters' Additive model.\")\n",
    "    \n",
    "    return results_df, fitted_model"
   ]
  },
  {
   "cell_type": "code",
   "execution_count": null,
   "id": "2da3dc62",
   "metadata": {},
   "outputs": [],
   "source": []
  },
  {
   "cell_type": "code",
   "execution_count": null,
   "id": "63aa0943",
   "metadata": {},
   "outputs": [],
   "source": []
  },
  {
   "cell_type": "code",
   "execution_count": null,
   "id": "f644cf1a",
   "metadata": {},
   "outputs": [],
   "source": []
  },
  {
   "cell_type": "code",
   "execution_count": null,
   "id": "b6206e7e",
   "metadata": {},
   "outputs": [],
   "source": []
  },
  {
   "cell_type": "code",
   "execution_count": null,
   "id": "4aa1c855",
   "metadata": {},
   "outputs": [],
   "source": []
  },
  {
   "cell_type": "code",
   "execution_count": null,
   "id": "ed9daeb4",
   "metadata": {},
   "outputs": [],
   "source": []
  },
  {
   "cell_type": "code",
   "execution_count": null,
   "id": "faf11bec",
   "metadata": {},
   "outputs": [],
   "source": []
  }
 ],
 "metadata": {
  "kernelspec": {
   "display_name": "evolution",
   "language": "python",
   "name": "python3"
  },
  "language_info": {
   "codemirror_mode": {
    "name": "ipython",
    "version": 3
   },
   "file_extension": ".py",
   "mimetype": "text/x-python",
   "name": "python",
   "nbconvert_exporter": "python",
   "pygments_lexer": "ipython3",
   "version": "3.13.3"
  }
 },
 "nbformat": 4,
 "nbformat_minor": 5
}
